{
 "cells": [
  {
   "cell_type": "code",
   "execution_count": 22,
   "id": "07beedc2",
   "metadata": {},
   "outputs": [],
   "source": [
    "import pandas as pd"
   ]
  },
  {
   "cell_type": "code",
   "execution_count": 23,
   "id": "02c0108d",
   "metadata": {},
   "outputs": [],
   "source": [
    "df = pd.read_csv('prediction-ds_20210919100559-2021-09-19T17_57_34.891403Z_tables_1.csv')"
   ]
  },
  {
   "cell_type": "code",
   "execution_count": 24,
   "id": "8ed0a66d",
   "metadata": {},
   "outputs": [
    {
     "data": {
      "text/html": [
       "<div>\n",
       "<style scoped>\n",
       "    .dataframe tbody tr th:only-of-type {\n",
       "        vertical-align: middle;\n",
       "    }\n",
       "\n",
       "    .dataframe tbody tr th {\n",
       "        vertical-align: top;\n",
       "    }\n",
       "\n",
       "    .dataframe thead th {\n",
       "        text-align: right;\n",
       "    }\n",
       "</style>\n",
       "<table border=\"1\" class=\"dataframe\">\n",
       "  <thead>\n",
       "    <tr style=\"text-align: right;\">\n",
       "      <th></th>\n",
       "      <th>ID</th>\n",
       "      <th>Store_id</th>\n",
       "      <th>Store_Type</th>\n",
       "      <th>Location_Type</th>\n",
       "      <th>Region_Code</th>\n",
       "      <th>Date</th>\n",
       "      <th>Holiday</th>\n",
       "      <th>Discount</th>\n",
       "      <th>predicted_Sales</th>\n",
       "    </tr>\n",
       "  </thead>\n",
       "  <tbody>\n",
       "    <tr>\n",
       "      <th>0</th>\n",
       "      <td>T1188624</td>\n",
       "      <td>293</td>\n",
       "      <td>S2</td>\n",
       "      <td>L4</td>\n",
       "      <td>R2</td>\n",
       "      <td>2019-06-01</td>\n",
       "      <td>0</td>\n",
       "      <td>No</td>\n",
       "      <td>23934.378906</td>\n",
       "    </tr>\n",
       "    <tr>\n",
       "      <th>1</th>\n",
       "      <td>T1191877</td>\n",
       "      <td>365</td>\n",
       "      <td>S2</td>\n",
       "      <td>L1</td>\n",
       "      <td>R2</td>\n",
       "      <td>2019-06-10</td>\n",
       "      <td>0</td>\n",
       "      <td>No</td>\n",
       "      <td>26876.574219</td>\n",
       "    </tr>\n",
       "    <tr>\n",
       "      <th>2</th>\n",
       "      <td>T1190907</td>\n",
       "      <td>115</td>\n",
       "      <td>S4</td>\n",
       "      <td>L2</td>\n",
       "      <td>R1</td>\n",
       "      <td>2019-06-08</td>\n",
       "      <td>0</td>\n",
       "      <td>Yes</td>\n",
       "      <td>86788.710938</td>\n",
       "    </tr>\n",
       "    <tr>\n",
       "      <th>3</th>\n",
       "      <td>T1201887</td>\n",
       "      <td>216</td>\n",
       "      <td>S2</td>\n",
       "      <td>L5</td>\n",
       "      <td>R1</td>\n",
       "      <td>2019-07-08</td>\n",
       "      <td>0</td>\n",
       "      <td>No</td>\n",
       "      <td>19748.896484</td>\n",
       "    </tr>\n",
       "    <tr>\n",
       "      <th>4</th>\n",
       "      <td>T1201833</td>\n",
       "      <td>278</td>\n",
       "      <td>S4</td>\n",
       "      <td>L1</td>\n",
       "      <td>R4</td>\n",
       "      <td>2019-07-07</td>\n",
       "      <td>0</td>\n",
       "      <td>No</td>\n",
       "      <td>77921.609375</td>\n",
       "    </tr>\n",
       "  </tbody>\n",
       "</table>\n",
       "</div>"
      ],
      "text/plain": [
       "         ID  Store_id Store_Type Location_Type Region_Code        Date  \\\n",
       "0  T1188624       293         S2            L4          R2  2019-06-01   \n",
       "1  T1191877       365         S2            L1          R2  2019-06-10   \n",
       "2  T1190907       115         S4            L2          R1  2019-06-08   \n",
       "3  T1201887       216         S2            L5          R1  2019-07-08   \n",
       "4  T1201833       278         S4            L1          R4  2019-07-07   \n",
       "\n",
       "   Holiday Discount  predicted_Sales  \n",
       "0        0       No     23934.378906  \n",
       "1        0       No     26876.574219  \n",
       "2        0      Yes     86788.710938  \n",
       "3        0       No     19748.896484  \n",
       "4        0       No     77921.609375  "
      ]
     },
     "execution_count": 24,
     "metadata": {},
     "output_type": "execute_result"
    }
   ],
   "source": [
    "df.head()"
   ]
  },
  {
   "cell_type": "code",
   "execution_count": 25,
   "id": "e007ce19",
   "metadata": {},
   "outputs": [
    {
     "data": {
      "text/html": [
       "<div>\n",
       "<style scoped>\n",
       "    .dataframe tbody tr th:only-of-type {\n",
       "        vertical-align: middle;\n",
       "    }\n",
       "\n",
       "    .dataframe tbody tr th {\n",
       "        vertical-align: top;\n",
       "    }\n",
       "\n",
       "    .dataframe thead th {\n",
       "        text-align: right;\n",
       "    }\n",
       "</style>\n",
       "<table border=\"1\" class=\"dataframe\">\n",
       "  <thead>\n",
       "    <tr style=\"text-align: right;\">\n",
       "      <th></th>\n",
       "      <th>ID</th>\n",
       "      <th>predicted_Sales</th>\n",
       "    </tr>\n",
       "  </thead>\n",
       "  <tbody>\n",
       "    <tr>\n",
       "      <th>0</th>\n",
       "      <td>T1188624</td>\n",
       "      <td>23934.378906</td>\n",
       "    </tr>\n",
       "    <tr>\n",
       "      <th>1</th>\n",
       "      <td>T1191877</td>\n",
       "      <td>26876.574219</td>\n",
       "    </tr>\n",
       "    <tr>\n",
       "      <th>2</th>\n",
       "      <td>T1190907</td>\n",
       "      <td>86788.710938</td>\n",
       "    </tr>\n",
       "    <tr>\n",
       "      <th>3</th>\n",
       "      <td>T1201887</td>\n",
       "      <td>19748.896484</td>\n",
       "    </tr>\n",
       "    <tr>\n",
       "      <th>4</th>\n",
       "      <td>T1201833</td>\n",
       "      <td>77921.609375</td>\n",
       "    </tr>\n",
       "  </tbody>\n",
       "</table>\n",
       "</div>"
      ],
      "text/plain": [
       "         ID  predicted_Sales\n",
       "0  T1188624     23934.378906\n",
       "1  T1191877     26876.574219\n",
       "2  T1190907     86788.710938\n",
       "3  T1201887     19748.896484\n",
       "4  T1201833     77921.609375"
      ]
     },
     "execution_count": 25,
     "metadata": {},
     "output_type": "execute_result"
    }
   ],
   "source": [
    "df = df.drop(columns = ['Store_id', 'Store_Type', \"Location_Type\", 'Region_Code', \"Date\", 'Holiday', 'Discount'])\n",
    "df.head()"
   ]
  },
  {
   "cell_type": "code",
   "execution_count": 26,
   "id": "57ab4bbb",
   "metadata": {},
   "outputs": [],
   "source": [
    "df['Sales'] = df['predicted_Sales']\n",
    "df = df.drop(columns = ['predicted_Sales'])"
   ]
  },
  {
   "cell_type": "code",
   "execution_count": 27,
   "id": "6c8ada7d",
   "metadata": {},
   "outputs": [
    {
     "data": {
      "text/plain": [
       "0        23934.378906\n",
       "1        26876.574219\n",
       "2        86788.710938\n",
       "3        19748.896484\n",
       "4        77921.609375\n",
       "             ...     \n",
       "22260    40517.222656\n",
       "22261    38876.867188\n",
       "22262    56065.343750\n",
       "22263    22359.082031\n",
       "22264    46770.308594\n",
       "Name: Sales, Length: 22265, dtype: float64"
      ]
     },
     "execution_count": 27,
     "metadata": {},
     "output_type": "execute_result"
    }
   ],
   "source": [
    "df[\"Sales\"]"
   ]
  },
  {
   "cell_type": "code",
   "execution_count": 28,
   "id": "37cf652d",
   "metadata": {},
   "outputs": [
    {
     "name": "stdout",
     "output_type": "stream",
     "text": [
      "file saved\n"
     ]
    }
   ],
   "source": [
    "df.to_csv('gcp5.csv', index = False)\n",
    "print('file saved')"
   ]
  },
  {
   "cell_type": "code",
   "execution_count": null,
   "id": "2341df94",
   "metadata": {},
   "outputs": [],
   "source": []
  }
 ],
 "metadata": {
  "kernelspec": {
   "display_name": "Python 3",
   "language": "python",
   "name": "python3"
  },
  "language_info": {
   "codemirror_mode": {
    "name": "ipython",
    "version": 3
   },
   "file_extension": ".py",
   "mimetype": "text/x-python",
   "name": "python",
   "nbconvert_exporter": "python",
   "pygments_lexer": "ipython3",
   "version": "3.8.8"
  }
 },
 "nbformat": 4,
 "nbformat_minor": 5
}
